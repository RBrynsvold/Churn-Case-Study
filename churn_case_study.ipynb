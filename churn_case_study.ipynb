{
 "cells": [
  {
   "cell_type": "markdown",
   "metadata": {},
   "source": [
    "## Case Study - Churn Prediction\n",
    "\n",
    "A ride-sharing company (Company X) is interested in predicting rider retention.\n",
    "To help explore this question, we have provided a sample dataset of a cohort of \n",
    "users who signed up for an account in January 2014. The data was pulled on July 1, 2014; \n",
    "we consider a user retained if they were “active” (i.e. took a trip) in \n",
    "the preceding 30 days (from the day the data was pulled). In other words, a user is \"active\"\n",
    "if they have taken a trip since June 1, 2014. The data, `churn.csv`, is in the \n",
    "[data](data) folder.  The data are split into train and test sets.  You are encouraged\n",
    "to tune and estimate your model's performance on the train set, then see how it does on\n",
    "the unseen data in the test set at the end.\n",
    "\n",
    "We would like you to use this data set to help understand **what factors are the best\n",
    "predictors for retention**, and offer suggestions to operationalize those insights to \n",
    "help Company X. Therefore, your task is not only to build a model that minimizes error,\n",
    "but also a model that allows you to interpret the factors that contributed to your predictions.\n",
    "\n",
    "Here is a detailed description of the data:\n",
    "\n",
    "```\n",
    "city: city this user signed up in\n",
    "phone: primary device for this user\n",
    "signup_date: date of account registration; in the form `YYYYMMDD`\n",
    "last_trip_date: the last time this user completed a trip; in the form `YYYYMMDD`\n",
    "avg_dist: the average distance (in miles) per trip taken in the first 30 days after signup\n",
    "avg_rating_by_driver: the rider’s average rating over all of their trips\n",
    "avg_rating_of_driver: the rider’s average rating of their drivers over all of their trips \n",
    "surge_pct: the percent of trips taken with surge multiplier > 1\n",
    "avg_surge: The average surge multiplier over all of this user’s trips \n",
    "trips_in_first_30_days: the number of trips this user took in the first 30 days after signing up\n",
    "luxury_car_user: TRUE if the user took a luxury car in their first 30 days; FALSE otherwise\n",
    "weekday_pct: the percent of the user’s trips occurring during a weekday\n",
    "```\n",
    "\n",
    "## Work Flow\n",
    "\n",
    "1. Perform any cleaning, exploratory analysis, and/or visualizations to use the provided\n",
    "   data for this analysis.\n",
    "   \n",
    "2. Build a predictive model to help determine whether or not a user will be retained.\n",
    "\n",
    "3. Evaluate the model.\n",
    " \n",
    "4. Identify / interpret features that are the most influential in affecting your predictions.\n",
    "\n",
    "5. Discuss the validity of your model. Issues such as [leakage.](https://www.kaggle.com/wiki/Leakage)\n",
    "\n",
    "6. Repeat 2 - 5 until you have a satisfactory model.\n",
    "   \n",
    "## Deliverables\n",
    "\n",
    "- Code you used to build the model.\n",
    "\n",
    "- A presentation including the following points:\n",
    "    - How did you compute the target?\n",
    "    - What model did you use in the end? Why?\n",
    "    - Alternative models you considered? Why are they not good enough?\n",
    "    - What performance metric did you use? Why?\n",
    "    - Based on insights from the model, what actionable plans do you propose to reduce churn?\n",
    "    "
   ]
  },
  {
   "cell_type": "markdown",
   "metadata": {},
   "source": [
    "## Step 1: EDA\n",
    "### Identify ID, Input and Target features\n",
    "### Identify categorical and numerical features\n",
    "### Identify columns with missing values"
   ]
  },
  {
   "cell_type": "code",
   "execution_count": 7,
   "metadata": {
    "collapsed": false
   },
   "outputs": [],
   "source": [
    "datadict={\"city\": \"city this user signed up in\",\n",
    "\"phone\": \"primary device for this user\",\n",
    "\"signup_date\": \"date of account registration; in the form `YYYYMMDD`\",\n",
    "\"last_trip_date\": \"the last time this user completed a trip; in the form `YYYYMMDD`\",\n",
    "\"avg_dist\": \"the average distance (in miles) per trip taken in the first 30 days after signup\",\n",
    "\"avg_rating_by_driver\": \"the rider's average rating over all of their trips\",\n",
    "\"avg_rating_of_driver\": \"the rider's average rating of their drivers over all of their trips\", \n",
    "\"surge_pct\": \"the percent of trips taken with surge multiplier > 1\",\n",
    "\"avg_surge\": \"The average surge multiplier over all of this user's trips\", \n",
    "\"trips_in_first_30_days\": \"the number of trips this user took in the first 30 days after signing up\",\n",
    "\"luxury_car_user\": \"TRUE if the user took a luxury car in their first 30 days; FALSE otherwise\",\n",
    "\"weekday_pct\":\"the percent of the user's trips occurring during a weekday\"}"
   ]
  },
  {
   "cell_type": "code",
   "execution_count": 10,
   "metadata": {
    "collapsed": true
   },
   "outputs": [
    {
     "name": "stderr",
     "output_type": "stream",
     "text": [
      "//anaconda/lib/python2.7/site-packages/statsmodels/compat/pandas.py:56: FutureWarning: The pandas.core.datetools module is deprecated and will be removed in a future version. Please use the pandas.tseries module instead.\n",
      "  from pandas.core import datetools\n",
      "//anaconda/lib/python2.7/site-packages/sklearn/cross_validation.py:44: DeprecationWarning: This module was deprecated in version 0.18 in favor of the model_selection module into which all the refactored classes and functions are moved. Also note that the interface of the new CV iterators are different from that of this module. This module will be removed in 0.20.\n",
      "  \"This module will be removed in 0.20.\", DeprecationWarning)\n"
     ]
    }
   ],
   "source": [
    "from imports import *"
   ]
  },
  {
   "cell_type": "code",
   "execution_count": 164,
   "metadata": {
    "collapsed": false
   },
   "outputs": [],
   "source": [
    "%matplotlib inline\n",
    "from matplotlib import *\n",
    "rcParams['figure.figsize'] = (16.0, 8.0)\n",
    "rcParams['font.size'] = (16.0)\n",
    "pd.set_option('max_colwidth', 800)"
   ]
  },
  {
   "cell_type": "code",
   "execution_count": 8,
   "metadata": {
    "collapsed": false,
    "scrolled": true
   },
   "outputs": [
    {
     "data": {
      "text/plain": [
       "{'avg_dist': 'the average distance (in miles) per trip taken in the first 30 days after signup',\n",
       " 'avg_rating_by_driver': \"the rider's average rating over all of their trips\",\n",
       " 'avg_rating_of_driver': \"the rider's average rating of their drivers over all of their trips\",\n",
       " 'avg_surge': \"The average surge multiplier over all of this user's trips\",\n",
       " 'city': 'city this user signed up in',\n",
       " 'last_trip_date': 'the last time this user completed a trip; in the form `YYYYMMDD`',\n",
       " 'luxury_car_user': 'TRUE if the user took a luxury car in their first 30 days; FALSE otherwise',\n",
       " 'phone': 'primary device for this user',\n",
       " 'signup_date': 'date of account registration; in the form `YYYYMMDD`',\n",
       " 'surge_pct': 'the percent of trips taken with surge multiplier > 1',\n",
       " 'trips_in_first_30_days': 'the number of trips this user took in the first 30 days after signing up',\n",
       " 'weekday_pct': \"the percent of the user's trips occurring during a weekday\"}"
      ]
     },
     "execution_count": 8,
     "metadata": {},
     "output_type": "execute_result"
    }
   ],
   "source": [
    "datadict"
   ]
  },
  {
   "cell_type": "code",
   "execution_count": 58,
   "metadata": {
    "collapsed": false,
    "scrolled": true
   },
   "outputs": [
    {
     "data": {
      "text/html": [
       "<div>\n",
       "<style>\n",
       "    .dataframe thead tr:only-child th {\n",
       "        text-align: right;\n",
       "    }\n",
       "\n",
       "    .dataframe thead th {\n",
       "        text-align: left;\n",
       "    }\n",
       "\n",
       "    .dataframe tbody tr th {\n",
       "        vertical-align: top;\n",
       "    }\n",
       "</style>\n",
       "<table border=\"1\" class=\"dataframe\">\n",
       "  <thead>\n",
       "    <tr style=\"text-align: right;\">\n",
       "      <th></th>\n",
       "      <th>feature name</th>\n",
       "      <th>feature description</th>\n",
       "    </tr>\n",
       "  </thead>\n",
       "  <tbody>\n",
       "    <tr>\n",
       "      <th>0</th>\n",
       "      <td>last_trip_date</td>\n",
       "      <td>the last time this user completed a trip; in the form `YYYYMMDD`</td>\n",
       "    </tr>\n",
       "    <tr>\n",
       "      <th>1</th>\n",
       "      <td>phone</td>\n",
       "      <td>primary device for this user</td>\n",
       "    </tr>\n",
       "    <tr>\n",
       "      <th>2</th>\n",
       "      <td>weekday_pct</td>\n",
       "      <td>the percent of the user's trips occurring during a weekday</td>\n",
       "    </tr>\n",
       "    <tr>\n",
       "      <th>3</th>\n",
       "      <td>avg_rating_by_driver</td>\n",
       "      <td>the rider's average rating over all of their trips</td>\n",
       "    </tr>\n",
       "    <tr>\n",
       "      <th>4</th>\n",
       "      <td>city</td>\n",
       "      <td>city this user signed up in</td>\n",
       "    </tr>\n",
       "    <tr>\n",
       "      <th>5</th>\n",
       "      <td>trips_in_first_30_days</td>\n",
       "      <td>the number of trips this user took in the first 30 days after signing up</td>\n",
       "    </tr>\n",
       "    <tr>\n",
       "      <th>6</th>\n",
       "      <td>signup_date</td>\n",
       "      <td>date of account registration; in the form `YYYYMMDD`</td>\n",
       "    </tr>\n",
       "    <tr>\n",
       "      <th>7</th>\n",
       "      <td>avg_rating_of_driver</td>\n",
       "      <td>the rider's average rating of their drivers over all of their trips</td>\n",
       "    </tr>\n",
       "    <tr>\n",
       "      <th>8</th>\n",
       "      <td>avg_surge</td>\n",
       "      <td>The average surge multiplier over all of this user's trips</td>\n",
       "    </tr>\n",
       "    <tr>\n",
       "      <th>9</th>\n",
       "      <td>surge_pct</td>\n",
       "      <td>the percent of trips taken with surge multiplier &gt; 1</td>\n",
       "    </tr>\n",
       "    <tr>\n",
       "      <th>10</th>\n",
       "      <td>avg_dist</td>\n",
       "      <td>the average distance (in miles) per trip taken in the first 30 days after signup</td>\n",
       "    </tr>\n",
       "    <tr>\n",
       "      <th>11</th>\n",
       "      <td>luxury_car_user</td>\n",
       "      <td>TRUE if the user took a luxury car in their first 30 days; FALSE otherwise</td>\n",
       "    </tr>\n",
       "  </tbody>\n",
       "</table>\n",
       "</div>"
      ],
      "text/plain": [
       "              feature name  \\\n",
       "0           last_trip_date   \n",
       "1                    phone   \n",
       "2              weekday_pct   \n",
       "3     avg_rating_by_driver   \n",
       "4                     city   \n",
       "5   trips_in_first_30_days   \n",
       "6              signup_date   \n",
       "7     avg_rating_of_driver   \n",
       "8                avg_surge   \n",
       "9                surge_pct   \n",
       "10                avg_dist   \n",
       "11         luxury_car_user   \n",
       "\n",
       "                                                                 feature description  \n",
       "0                   the last time this user completed a trip; in the form `YYYYMMDD`  \n",
       "1                                                       primary device for this user  \n",
       "2                         the percent of the user's trips occurring during a weekday  \n",
       "3                                 the rider's average rating over all of their trips  \n",
       "4                                                        city this user signed up in  \n",
       "5           the number of trips this user took in the first 30 days after signing up  \n",
       "6                               date of account registration; in the form `YYYYMMDD`  \n",
       "7                the rider's average rating of their drivers over all of their trips  \n",
       "8                         The average surge multiplier over all of this user's trips  \n",
       "9                               the percent of trips taken with surge multiplier > 1  \n",
       "10  the average distance (in miles) per trip taken in the first 30 days after signup  \n",
       "11        TRUE if the user took a luxury car in their first 30 days; FALSE otherwise  "
      ]
     },
     "execution_count": 58,
     "metadata": {},
     "output_type": "execute_result"
    }
   ],
   "source": [
    "datadict_df = pd.DataFrame.from_dict(datadict, orient='index').reset_index()\n",
    "datadict_df.columns=[\"feature name\", \"feature description\"]\n",
    "datadict_df"
   ]
  },
  {
   "cell_type": "code",
   "execution_count": 231,
   "metadata": {
    "collapsed": false
   },
   "outputs": [],
   "source": [
    "df = pd.read_csv(\"data/churn_train.csv\")"
   ]
  },
  {
   "cell_type": "code",
   "execution_count": 232,
   "metadata": {
    "collapsed": false
   },
   "outputs": [
    {
     "data": {
      "text/html": [
       "<div>\n",
       "<style>\n",
       "    .dataframe thead tr:only-child th {\n",
       "        text-align: right;\n",
       "    }\n",
       "\n",
       "    .dataframe thead th {\n",
       "        text-align: left;\n",
       "    }\n",
       "\n",
       "    .dataframe tbody tr th {\n",
       "        vertical-align: top;\n",
       "    }\n",
       "</style>\n",
       "<table border=\"1\" class=\"dataframe\">\n",
       "  <thead>\n",
       "    <tr style=\"text-align: right;\">\n",
       "      <th></th>\n",
       "      <th>avg_dist</th>\n",
       "      <th>avg_rating_by_driver</th>\n",
       "      <th>avg_rating_of_driver</th>\n",
       "      <th>avg_surge</th>\n",
       "      <th>city</th>\n",
       "      <th>last_trip_date</th>\n",
       "      <th>phone</th>\n",
       "      <th>signup_date</th>\n",
       "      <th>surge_pct</th>\n",
       "      <th>trips_in_first_30_days</th>\n",
       "      <th>luxury_car_user</th>\n",
       "      <th>weekday_pct</th>\n",
       "    </tr>\n",
       "  </thead>\n",
       "  <tbody>\n",
       "    <tr>\n",
       "      <th>0</th>\n",
       "      <td>6.94</td>\n",
       "      <td>5.0</td>\n",
       "      <td>5.0</td>\n",
       "      <td>1.00</td>\n",
       "      <td>Astapor</td>\n",
       "      <td>2014-05-03</td>\n",
       "      <td>Android</td>\n",
       "      <td>2014-01-12</td>\n",
       "      <td>0.0</td>\n",
       "      <td>0</td>\n",
       "      <td>False</td>\n",
       "      <td>100.0</td>\n",
       "    </tr>\n",
       "    <tr>\n",
       "      <th>1</th>\n",
       "      <td>8.06</td>\n",
       "      <td>5.0</td>\n",
       "      <td>5.0</td>\n",
       "      <td>1.00</td>\n",
       "      <td>Astapor</td>\n",
       "      <td>2014-01-26</td>\n",
       "      <td>Android</td>\n",
       "      <td>2014-01-25</td>\n",
       "      <td>0.0</td>\n",
       "      <td>2</td>\n",
       "      <td>True</td>\n",
       "      <td>0.0</td>\n",
       "    </tr>\n",
       "    <tr>\n",
       "      <th>2</th>\n",
       "      <td>21.50</td>\n",
       "      <td>4.0</td>\n",
       "      <td>NaN</td>\n",
       "      <td>1.00</td>\n",
       "      <td>Winterfell</td>\n",
       "      <td>2014-05-21</td>\n",
       "      <td>iPhone</td>\n",
       "      <td>2014-01-02</td>\n",
       "      <td>0.0</td>\n",
       "      <td>1</td>\n",
       "      <td>True</td>\n",
       "      <td>100.0</td>\n",
       "    </tr>\n",
       "    <tr>\n",
       "      <th>3</th>\n",
       "      <td>9.46</td>\n",
       "      <td>5.0</td>\n",
       "      <td>NaN</td>\n",
       "      <td>2.75</td>\n",
       "      <td>Winterfell</td>\n",
       "      <td>2014-01-10</td>\n",
       "      <td>Android</td>\n",
       "      <td>2014-01-09</td>\n",
       "      <td>100.0</td>\n",
       "      <td>1</td>\n",
       "      <td>False</td>\n",
       "      <td>100.0</td>\n",
       "    </tr>\n",
       "    <tr>\n",
       "      <th>4</th>\n",
       "      <td>13.77</td>\n",
       "      <td>5.0</td>\n",
       "      <td>NaN</td>\n",
       "      <td>1.00</td>\n",
       "      <td>Winterfell</td>\n",
       "      <td>2014-05-13</td>\n",
       "      <td>iPhone</td>\n",
       "      <td>2014-01-31</td>\n",
       "      <td>0.0</td>\n",
       "      <td>0</td>\n",
       "      <td>False</td>\n",
       "      <td>100.0</td>\n",
       "    </tr>\n",
       "    <tr>\n",
       "      <th>5</th>\n",
       "      <td>14.51</td>\n",
       "      <td>5.0</td>\n",
       "      <td>NaN</td>\n",
       "      <td>1.00</td>\n",
       "      <td>Astapor</td>\n",
       "      <td>2014-04-22</td>\n",
       "      <td>iPhone</td>\n",
       "      <td>2014-01-29</td>\n",
       "      <td>0.0</td>\n",
       "      <td>0</td>\n",
       "      <td>True</td>\n",
       "      <td>100.0</td>\n",
       "    </tr>\n",
       "    <tr>\n",
       "      <th>6</th>\n",
       "      <td>4.87</td>\n",
       "      <td>4.7</td>\n",
       "      <td>4.0</td>\n",
       "      <td>1.00</td>\n",
       "      <td>Astapor</td>\n",
       "      <td>2014-04-21</td>\n",
       "      <td>Android</td>\n",
       "      <td>2014-01-18</td>\n",
       "      <td>0.0</td>\n",
       "      <td>0</td>\n",
       "      <td>False</td>\n",
       "      <td>66.7</td>\n",
       "    </tr>\n",
       "  </tbody>\n",
       "</table>\n",
       "</div>"
      ],
      "text/plain": [
       "   avg_dist  avg_rating_by_driver  avg_rating_of_driver  avg_surge  \\\n",
       "0      6.94                   5.0                   5.0       1.00   \n",
       "1      8.06                   5.0                   5.0       1.00   \n",
       "2     21.50                   4.0                   NaN       1.00   \n",
       "3      9.46                   5.0                   NaN       2.75   \n",
       "4     13.77                   5.0                   NaN       1.00   \n",
       "5     14.51                   5.0                   NaN       1.00   \n",
       "6      4.87                   4.7                   4.0       1.00   \n",
       "\n",
       "         city last_trip_date    phone signup_date  surge_pct  \\\n",
       "0     Astapor     2014-05-03  Android  2014-01-12        0.0   \n",
       "1     Astapor     2014-01-26  Android  2014-01-25        0.0   \n",
       "2  Winterfell     2014-05-21   iPhone  2014-01-02        0.0   \n",
       "3  Winterfell     2014-01-10  Android  2014-01-09      100.0   \n",
       "4  Winterfell     2014-05-13   iPhone  2014-01-31        0.0   \n",
       "5     Astapor     2014-04-22   iPhone  2014-01-29        0.0   \n",
       "6     Astapor     2014-04-21  Android  2014-01-18        0.0   \n",
       "\n",
       "   trips_in_first_30_days  luxury_car_user  weekday_pct  \n",
       "0                       0            False        100.0  \n",
       "1                       2             True          0.0  \n",
       "2                       1             True        100.0  \n",
       "3                       1            False        100.0  \n",
       "4                       0            False        100.0  \n",
       "5                       0             True        100.0  \n",
       "6                       0            False         66.7  "
      ]
     },
     "execution_count": 232,
     "metadata": {},
     "output_type": "execute_result"
    }
   ],
   "source": [
    "df.head(7)"
   ]
  },
  {
   "cell_type": "code",
   "execution_count": 233,
   "metadata": {
    "collapsed": false
   },
   "outputs": [
    {
     "data": {
      "text/plain": [
       "(40000, 12)"
      ]
     },
     "execution_count": 233,
     "metadata": {},
     "output_type": "execute_result"
    }
   ],
   "source": [
    "df.shape"
   ]
  },
  {
   "cell_type": "code",
   "execution_count": 234,
   "metadata": {
    "collapsed": false,
    "scrolled": true
   },
   "outputs": [
    {
     "name": "stdout",
     "output_type": "stream",
     "text": [
      "<class 'pandas.core.frame.DataFrame'>\n",
      "RangeIndex: 40000 entries, 0 to 39999\n",
      "Data columns (total 12 columns):\n",
      "avg_dist                  40000 non-null float64\n",
      "avg_rating_by_driver      39838 non-null float64\n",
      "avg_rating_of_driver      33472 non-null float64\n",
      "avg_surge                 40000 non-null float64\n",
      "city                      40000 non-null object\n",
      "last_trip_date            40000 non-null object\n",
      "phone                     39681 non-null object\n",
      "signup_date               40000 non-null object\n",
      "surge_pct                 40000 non-null float64\n",
      "trips_in_first_30_days    40000 non-null int64\n",
      "luxury_car_user           40000 non-null bool\n",
      "weekday_pct               40000 non-null float64\n",
      "dtypes: bool(1), float64(6), int64(1), object(4)\n",
      "memory usage: 3.4+ MB\n"
     ]
    }
   ],
   "source": [
    "df.info()"
   ]
  },
  {
   "cell_type": "code",
   "execution_count": 235,
   "metadata": {
    "collapsed": true
   },
   "outputs": [],
   "source": [
    "df_original = df.copy()"
   ]
  },
  {
   "cell_type": "code",
   "execution_count": 236,
   "metadata": {
    "collapsed": false
   },
   "outputs": [],
   "source": [
    "df.last_trip_date = pd.to_datetime(df.last_trip_date)\n",
    "df.signup_date = pd.to_datetime(df.signup_date)"
   ]
  },
  {
   "cell_type": "code",
   "execution_count": 237,
   "metadata": {
    "collapsed": false
   },
   "outputs": [
    {
     "name": "stdout",
     "output_type": "stream",
     "text": [
      "<class 'pandas.core.frame.DataFrame'>\n",
      "RangeIndex: 40000 entries, 0 to 39999\n",
      "Data columns (total 12 columns):\n",
      "avg_dist                  40000 non-null float64\n",
      "avg_rating_by_driver      39838 non-null float64\n",
      "avg_rating_of_driver      33472 non-null float64\n",
      "avg_surge                 40000 non-null float64\n",
      "city                      40000 non-null object\n",
      "last_trip_date            40000 non-null datetime64[ns]\n",
      "phone                     39681 non-null object\n",
      "signup_date               40000 non-null datetime64[ns]\n",
      "surge_pct                 40000 non-null float64\n",
      "trips_in_first_30_days    40000 non-null int64\n",
      "luxury_car_user           40000 non-null bool\n",
      "weekday_pct               40000 non-null float64\n",
      "dtypes: bool(1), datetime64[ns](2), float64(6), int64(1), object(2)\n",
      "memory usage: 3.4+ MB\n"
     ]
    }
   ],
   "source": [
    "df.info()"
   ]
  },
  {
   "cell_type": "markdown",
   "metadata": {},
   "source": [
    "### \" a user is \"active\" if they have taken a trip since June 1, 2014.\""
   ]
  },
  {
   "cell_type": "code",
   "execution_count": 238,
   "metadata": {
    "collapsed": false
   },
   "outputs": [],
   "source": [
    "df[\"active\"] = df['last_trip_date'] > \"2014-06-01\""
   ]
  },
  {
   "cell_type": "code",
   "execution_count": 239,
   "metadata": {
    "collapsed": false
   },
   "outputs": [
    {
     "name": "stdout",
     "output_type": "stream",
     "text": [
      "False    25365\n",
      "True     14635\n",
      "Name: active, dtype: int64\n"
     ]
    },
    {
     "data": {
      "text/plain": [
       "<matplotlib.axes._subplots.AxesSubplot at 0x1205534d0>"
      ]
     },
     "execution_count": 239,
     "metadata": {},
     "output_type": "execute_result"
    },
    {
     "data": {
      "image/png": "[encoded data removed]",
      "text/plain": [
       "<matplotlib.figure.Figure at 0x120b7a110>"
      ]
     },
     "metadata": {},
     "output_type": "display_data"
    }
   ],
   "source": [
    "print df.active.value_counts()\n",
    "df.active.value_counts().plot.bar()"
   ]
  },
  {
   "cell_type": "code",
   "execution_count": 240,
   "metadata": {
    "collapsed": true
   },
   "outputs": [],
   "source": [
    "import eda_tools as et"
   ]
  },
  {
   "cell_type": "code",
   "execution_count": 241,
   "metadata": {
    "collapsed": false
   },
   "outputs": [],
   "source": [
    "dtype_dict = {\"bool_list\" : list(df.select_dtypes(include=['bool']).columns), \\\n",
    "              \"cat_vars\" : list(df.select_dtypes(include=['O']).columns), \\\n",
    "              \"cont_vars\" : list(df.select_dtypes(include=['int', 'float']).columns), \\\n",
    "              \"date_vars\" : list(df.select_dtypes(include=['datetime']).columns)}"
   ]
  },
  {
   "cell_type": "code",
   "execution_count": 242,
   "metadata": {
    "collapsed": false
   },
   "outputs": [
    {
     "data": {
      "text/plain": [
       "{'bool_list': ['luxury_car_user', 'active'],\n",
       " 'cat_vars': ['city', 'phone'],\n",
       " 'cont_vars': ['avg_dist',\n",
       "  'avg_rating_by_driver',\n",
       "  'avg_rating_of_driver',\n",
       "  'avg_surge',\n",
       "  'surge_pct',\n",
       "  'trips_in_first_30_days',\n",
       "  'weekday_pct'],\n",
       " 'date_vars': ['last_trip_date', 'signup_date']}"
      ]
     },
     "execution_count": 242,
     "metadata": {},
     "output_type": "execute_result"
    }
   ],
   "source": [
    "dtype_dict"
   ]
  },
  {
   "cell_type": "code",
   "execution_count": 243,
   "metadata": {
    "collapsed": false
   },
   "outputs": [
    {
     "name": "stdout",
     "output_type": "stream",
     "text": [
      "Winterfell        18620\n",
      "Astapor           13236\n",
      "King's Landing     8144\n",
      "Name: city, dtype: int64\n",
      "\n",
      "**************************************************\n",
      "iPhone     27628\n",
      "Android    12053\n",
      "Name: phone, dtype: int64\n",
      "\n",
      "**************************************************\n"
     ]
    }
   ],
   "source": [
    "for col in dtype_dict[\"cat_vars\"]:\n",
    "    print df[col].value_counts()\n",
    "    print \"\\n\",  \"*\" * 50"
   ]
  },
  {
   "cell_type": "code",
   "execution_count": 244,
   "metadata": {
    "collapsed": false
   },
   "outputs": [
    {
     "data": {
      "text/plain": [
       "<matplotlib.axes._subplots.AxesSubplot at 0x120e45410>"
      ]
     },
     "execution_count": 244,
     "metadata": {},
     "output_type": "execute_result"
    },
    {
     "data": {
      "image/png": "[encoded data removed]",
      "text/plain": [
       "<matplotlib.figure.Figure at 0x1208371d0>"
      ]
     },
     "metadata": {},
     "output_type": "display_data"
    }
   ],
   "source": [
    "df[\"avg_rating_by_driver\"].value_counts().sort_index(ascending=False).plot.bar(figsize=(12,6))"
   ]
  },
  {
   "cell_type": "code",
   "execution_count": 245,
   "metadata": {
    "collapsed": false
   },
   "outputs": [
    {
     "data": {
      "text/plain": [
       "<matplotlib.axes._subplots.AxesSubplot at 0x121870090>"
      ]
     },
     "execution_count": 245,
     "metadata": {},
     "output_type": "execute_result"
    },
    {
     "data": {
      "image/png": "[encoded data removed]",
      "text/plain": [
       "<matplotlib.figure.Figure at 0x120e37950>"
      ]
     },
     "metadata": {},
     "output_type": "display_data"
    }
   ],
   "source": [
    "df[\"avg_rating_of_driver\"].value_counts().sort_index(ascending=False).plot.bar(figsize=(16,6))"
   ]
  },
  {
   "cell_type": "markdown",
   "metadata": {},
   "source": [
    "### 'avg_rating_by_driver': \"the rider's average rating over all of their trips\",  \n",
    "### 'avg_rating_of_driver': \"the rider's average rating of their drivers over all of their trips\","
   ]
  },
  {
   "cell_type": "markdown",
   "metadata": {},
   "source": [
    "create difference feature?"
   ]
  },
  {
   "cell_type": "code",
   "execution_count": 246,
   "metadata": {
    "collapsed": false
   },
   "outputs": [
    {
     "data": {
      "text/plain": [
       "<matplotlib.axes._subplots.AxesSubplot at 0x121fd3110>"
      ]
     },
     "execution_count": 246,
     "metadata": {},
     "output_type": "execute_result"
    },
    {
     "data": {
      "image/png": "[encoded data removed]",
      "text/plain": [
       "<matplotlib.figure.Figure at 0x120e01a50>"
      ]
     },
     "metadata": {},
     "output_type": "display_data"
    }
   ],
   "source": [
    "df.groupby([\"phone\", \"active\"]).count().iloc[:,0].plot.bar()"
   ]
  },
  {
   "cell_type": "code",
   "execution_count": 247,
   "metadata": {
    "collapsed": false,
    "scrolled": false
   },
   "outputs": [
    {
     "data": {
      "text/plain": [
       "<matplotlib.axes._subplots.AxesSubplot at 0x1212022d0>"
      ]
     },
     "execution_count": 247,
     "metadata": {},
     "output_type": "execute_result"
    },
    {
     "data": {
      "image/png": "[encoded data removed]",
      "text/plain": [
       "<matplotlib.figure.Figure at 0x1221f4e90>"
      ]
     },
     "metadata": {},
     "output_type": "display_data"
    }
   ],
   "source": [
    "df.groupby([\"city\", \"active\"]).count().iloc[:,0].plot.bar(fontsize=14)"
   ]
  },
  {
   "cell_type": "code",
   "execution_count": 248,
   "metadata": {
    "collapsed": false,
    "scrolled": true
   },
   "outputs": [
    {
     "data": {
      "text/plain": [
       "avg_dist                  False\n",
       "avg_rating_by_driver       True\n",
       "avg_rating_of_driver       True\n",
       "avg_surge                 False\n",
       "city                      False\n",
       "last_trip_date            False\n",
       "phone                      True\n",
       "signup_date               False\n",
       "surge_pct                 False\n",
       "trips_in_first_30_days    False\n",
       "luxury_car_user           False\n",
       "weekday_pct               False\n",
       "active                    False\n",
       "dtype: bool"
      ]
     },
     "execution_count": 248,
     "metadata": {},
     "output_type": "execute_result"
    }
   ],
   "source": [
    "df.isnull().any()"
   ]
  },
  {
   "cell_type": "code",
   "execution_count": 249,
   "metadata": {
    "collapsed": true
   },
   "outputs": [],
   "source": [
    "def nan_counts(df, plot=False):\n",
    "    from collections import OrderedDict\n",
    "    # dict2 = OrderedDict({col: df[col].isnull().sum()/float(df.shape[0]) for col in df})\n",
    "    dict1 = OrderedDict()\n",
    "    for col in df:\n",
    "        dict1[col]=df[col].isnull().sum()/float(df.shape[0])\n",
    "    nan_count = pd.DataFrame(dict1, index=[0]).transpose()\n",
    "    nan_count.columns = [\"% NaNs of total\"]\n",
    "    if plot==True:\n",
    "        nan_count.plot.bar(figsize=(18,10))\n",
    "    return nan_count"
   ]
  },
  {
   "cell_type": "code",
   "execution_count": 176,
   "metadata": {
    "collapsed": false
   },
   "outputs": [
    {
     "data": {
      "text/html": [
       "<div>\n",
       "<style>\n",
       "    .dataframe thead tr:only-child th {\n",
       "        text-align: right;\n",
       "    }\n",
       "\n",
       "    .dataframe thead th {\n",
       "        text-align: left;\n",
       "    }\n",
       "\n",
       "    .dataframe tbody tr th {\n",
       "        vertical-align: top;\n",
       "    }\n",
       "</style>\n",
       "<table border=\"1\" class=\"dataframe\">\n",
       "  <thead>\n",
       "    <tr style=\"text-align: right;\">\n",
       "      <th></th>\n",
       "      <th>% NaNs of total</th>\n",
       "    </tr>\n",
       "  </thead>\n",
       "  <tbody>\n",
       "    <tr>\n",
       "      <th>avg_dist</th>\n",
       "      <td>0.0000</td>\n",
       "    </tr>\n",
       "    <tr>\n",
       "      <th>avg_rating_by_driver</th>\n",
       "      <td>0.0039</td>\n",
       "    </tr>\n",
       "    <tr>\n",
       "      <th>avg_rating_of_driver</th>\n",
       "      <td>0.1594</td>\n",
       "    </tr>\n",
       "    <tr>\n",
       "      <th>avg_surge</th>\n",
       "      <td>0.0000</td>\n",
       "    </tr>\n",
       "    <tr>\n",
       "      <th>city</th>\n",
       "      <td>0.0000</td>\n",
       "    </tr>\n",
       "    <tr>\n",
       "      <th>last_trip_date</th>\n",
       "      <td>0.0000</td>\n",
       "    </tr>\n",
       "    <tr>\n",
       "      <th>phone</th>\n",
       "      <td>0.0077</td>\n",
       "    </tr>\n",
       "    <tr>\n",
       "      <th>signup_date</th>\n",
       "      <td>0.0000</td>\n",
       "    </tr>\n",
       "    <tr>\n",
       "      <th>surge_pct</th>\n",
       "      <td>0.0000</td>\n",
       "    </tr>\n",
       "    <tr>\n",
       "      <th>trips_in_first_30_days</th>\n",
       "      <td>0.0000</td>\n",
       "    </tr>\n",
       "    <tr>\n",
       "      <th>luxury_car_user</th>\n",
       "      <td>0.0000</td>\n",
       "    </tr>\n",
       "    <tr>\n",
       "      <th>weekday_pct</th>\n",
       "      <td>0.0000</td>\n",
       "    </tr>\n",
       "    <tr>\n",
       "      <th>active</th>\n",
       "      <td>0.0000</td>\n",
       "    </tr>\n",
       "  </tbody>\n",
       "</table>\n",
       "</div>"
      ],
      "text/plain": [
       "                        % NaNs of total\n",
       "avg_dist                         0.0000\n",
       "avg_rating_by_driver             0.0039\n",
       "avg_rating_of_driver             0.1594\n",
       "avg_surge                        0.0000\n",
       "city                             0.0000\n",
       "last_trip_date                   0.0000\n",
       "phone                            0.0077\n",
       "signup_date                      0.0000\n",
       "surge_pct                        0.0000\n",
       "trips_in_first_30_days           0.0000\n",
       "luxury_car_user                  0.0000\n",
       "weekday_pct                      0.0000\n",
       "active                           0.0000"
      ]
     },
     "execution_count": 176,
     "metadata": {},
     "output_type": "execute_result"
    }
   ],
   "source": [
    "nan_counts(df)"
   ]
  },
  {
   "cell_type": "code",
   "execution_count": 250,
   "metadata": {
    "collapsed": false
   },
   "outputs": [
    {
     "data": {
      "text/plain": [
       "(40000, 13)"
      ]
     },
     "execution_count": 250,
     "metadata": {},
     "output_type": "execute_result"
    }
   ],
   "source": [
    "df.shape"
   ]
  },
  {
   "cell_type": "markdown",
   "metadata": {},
   "source": [
    "## Stage 2: Data Treatment (Missing values treatment):\n",
    "\n",
    "There are various ways to deal with it. For our first model, we will focus on the smart and quick techniques to build your first effective model (These are already discussed by Tavish in his article, I am adding a few methods)\n",
    "\n",
    "Create dummy flags for missing value(s) : It works, sometimes missing values itself carry a good amount of information.\n",
    "Impute missing value with mean/ median/ any other easiest method : Mean and Median imputation performs well, mostly people prefer to impute with mean value but in case of skewed distribution I would suggest you to go with median. Other Intelligent methods are imputing values by similar case mean and median imputation using other relevant features or building a model. For Example: In Titanic survival challenge, you can impute missing values of Age using salutation of passengers name Like “Mr.”, “Miss.”,”Mrs.”,”Master” and others and this has shown good impact on model performance.\n",
    "Impute missing value of categorical variable: Create a new level to impute categorical variable so that all missing value is coded as a single value say “New_Cat” or you can look at the frequency mix and impute the missing value with value having higher frequency.\n",
    "With such simple methods of data treatment, you can reduce the time to treat data to 3-4 minutes.\n",
    "\n",
    " "
   ]
  },
  {
   "cell_type": "markdown",
   "metadata": {},
   "source": [
    "### Step 5:  Create a new variable for each variable having missing value with VariableName_NA  and flag missing value with 1 and other with 0\n",
    "\n",
    "for var in num_cat_cols:\n",
    "    if fullData[var].isnull().any()==True:\n",
    "        fullData[var+'_NA']=fullData[var].isnull()*1 "
   ]
  },
  {
   "cell_type": "markdown",
   "metadata": {},
   "source": [
    "### Step 6: Impute Missing values\n",
    "#Impute categorical missing values with -9999\n",
    "fullData[cat_cols] = fullData[cat_cols].fillna(value = -9999)"
   ]
  },
  {
   "cell_type": "code",
   "execution_count": 251,
   "metadata": {
    "collapsed": true
   },
   "outputs": [],
   "source": [
    "df_before_impute = df.copy()"
   ]
  },
  {
   "cell_type": "code",
   "execution_count": 252,
   "metadata": {
    "collapsed": false
   },
   "outputs": [
    {
     "data": {
      "text/plain": [
       "4.601696940726505"
      ]
     },
     "execution_count": 252,
     "metadata": {},
     "output_type": "execute_result"
    }
   ],
   "source": [
    "mean_rating = df[\"avg_rating_of_driver\"].mean()\n",
    "mean_rating"
   ]
  },
  {
   "cell_type": "code",
   "execution_count": 253,
   "metadata": {
    "collapsed": false
   },
   "outputs": [],
   "source": [
    "#Impute numerical missing values with mean\n",
    "df[\"avg_rating_of_driver\"].fillna(mean_rating, inplace=True)"
   ]
  },
  {
   "cell_type": "code",
   "execution_count": 254,
   "metadata": {
    "collapsed": false,
    "scrolled": true
   },
   "outputs": [
    {
     "data": {
      "text/plain": [
       "array([ 5.        ,  4.60169694,  4.        ,  4.7       ,  3.        ,\n",
       "        3.7       ,  4.5       ,  3.3       ,  3.6       ,  4.3       ,\n",
       "        4.6       ,  3.8       ,  4.1       ,  1.        ,  4.4       ,\n",
       "        4.9       ,  3.5       ,  4.8       ,  2.        ,  3.1       ,\n",
       "        3.4       ,  4.2       ,  2.8       ,  2.7       ,  2.5       ,\n",
       "        3.9       ,  2.6       ,  1.9       ,  2.3       ,  3.2       ,\n",
       "        2.9       ,  2.1       ,  1.7       ,  1.5       ,  2.4       ,\n",
       "        2.2       ,  1.8       ,  1.6       ])"
      ]
     },
     "execution_count": 254,
     "metadata": {},
     "output_type": "execute_result"
    }
   ],
   "source": [
    "df[\"avg_rating_of_driver\"].unique()"
   ]
  },
  {
   "cell_type": "code",
   "execution_count": 255,
   "metadata": {
    "collapsed": false
   },
   "outputs": [],
   "source": [
    "#Impute numerical missing values with mean\n",
    "df[\"avg_rating_by_driver\"].fillna(df[\"avg_rating_by_driver\"].mean(), inplace=True)"
   ]
  },
  {
   "cell_type": "code",
   "execution_count": null,
   "metadata": {
    "collapsed": true
   },
   "outputs": [],
   "source": [
    "df.dropna(axis=0)"
   ]
  },
  {
   "cell_type": "code",
   "execution_count": 256,
   "metadata": {
    "collapsed": false
   },
   "outputs": [
    {
     "data": {
      "text/plain": [
       "(40000, 13)"
      ]
     },
     "execution_count": 256,
     "metadata": {},
     "output_type": "execute_result"
    }
   ],
   "source": [
    "df.shape"
   ]
  },
  {
   "cell_type": "code",
   "execution_count": null,
   "metadata": {
    "collapsed": true
   },
   "outputs": [],
   "source": [
    "df.dropna(axis=1)"
   ]
  },
  {
   "cell_type": "code",
   "execution_count": 229,
   "metadata": {
    "collapsed": false
   },
   "outputs": [
    {
     "data": {
      "text/html": [
       "<div>\n",
       "<style>\n",
       "    .dataframe thead tr:only-child th {\n",
       "        text-align: right;\n",
       "    }\n",
       "\n",
       "    .dataframe thead th {\n",
       "        text-align: left;\n",
       "    }\n",
       "\n",
       "    .dataframe tbody tr th {\n",
       "        vertical-align: top;\n",
       "    }\n",
       "</style>\n",
       "<table border=\"1\" class=\"dataframe\">\n",
       "  <thead>\n",
       "    <tr style=\"text-align: right;\">\n",
       "      <th></th>\n",
       "      <th>% NaNs of total</th>\n",
       "    </tr>\n",
       "  </thead>\n",
       "  <tbody>\n",
       "    <tr>\n",
       "      <th>avg_dist</th>\n",
       "      <td>0.0000</td>\n",
       "    </tr>\n",
       "    <tr>\n",
       "      <th>avg_rating_by_driver</th>\n",
       "      <td>0.0000</td>\n",
       "    </tr>\n",
       "    <tr>\n",
       "      <th>avg_rating_of_driver</th>\n",
       "      <td>0.0000</td>\n",
       "    </tr>\n",
       "    <tr>\n",
       "      <th>avg_surge</th>\n",
       "      <td>0.0000</td>\n",
       "    </tr>\n",
       "    <tr>\n",
       "      <th>city</th>\n",
       "      <td>0.0000</td>\n",
       "    </tr>\n",
       "    <tr>\n",
       "      <th>last_trip_date</th>\n",
       "      <td>0.0000</td>\n",
       "    </tr>\n",
       "    <tr>\n",
       "      <th>phone</th>\n",
       "      <td>0.0077</td>\n",
       "    </tr>\n",
       "    <tr>\n",
       "      <th>signup_date</th>\n",
       "      <td>0.0000</td>\n",
       "    </tr>\n",
       "    <tr>\n",
       "      <th>surge_pct</th>\n",
       "      <td>0.0000</td>\n",
       "    </tr>\n",
       "    <tr>\n",
       "      <th>trips_in_first_30_days</th>\n",
       "      <td>0.0000</td>\n",
       "    </tr>\n",
       "    <tr>\n",
       "      <th>luxury_car_user</th>\n",
       "      <td>0.0000</td>\n",
       "    </tr>\n",
       "    <tr>\n",
       "      <th>weekday_pct</th>\n",
       "      <td>0.0000</td>\n",
       "    </tr>\n",
       "    <tr>\n",
       "      <th>active</th>\n",
       "      <td>0.0000</td>\n",
       "    </tr>\n",
       "  </tbody>\n",
       "</table>\n",
       "</div>"
      ],
      "text/plain": [
       "                        % NaNs of total\n",
       "avg_dist                         0.0000\n",
       "avg_rating_by_driver             0.0000\n",
       "avg_rating_of_driver             0.0000\n",
       "avg_surge                        0.0000\n",
       "city                             0.0000\n",
       "last_trip_date                   0.0000\n",
       "phone                            0.0077\n",
       "signup_date                      0.0000\n",
       "surge_pct                        0.0000\n",
       "trips_in_first_30_days           0.0000\n",
       "luxury_car_user                  0.0000\n",
       "weekday_pct                      0.0000\n",
       "active                           0.0000"
      ]
     },
     "execution_count": 229,
     "metadata": {},
     "output_type": "execute_result"
    }
   ],
   "source": [
    "nan_counts(df)"
   ]
  },
  {
   "cell_type": "markdown",
   "metadata": {},
   "source": [
    "### Step 7 : Create label encoders for categorical variables\n",
    "\n",
    "#create label encoders for categorical features\n",
    "for var in cat_cols:\n",
    " number = LabelEncoder()\n",
    " fullData[var] = number.fit_transform(fullData[var].astype('str'))\n",
    "\n",
    "#Target variable is also a categorical so convert it\n",
    "fullData[\"Account.Status\"] = number.fit_transform(fullData[\"Account.Status\"].astype('str'))\n",
    "\n",
    "train=fullData[fullData['Type']=='Train']\n",
    "test=fullData[fullData['Type']=='Test']\n",
    "\n",
    "train['is_train'] = np.random.uniform(0, 1, len(train)) <= .75\n",
    "Train, Validate = train[train['is_train']==True], train[train['is_train']==False]"
   ]
  },
  {
   "cell_type": "markdown",
   "metadata": {},
   "source": [
    "## split the data set to train & test, further split the train data set to Train and Validate"
   ]
  },
  {
   "cell_type": "markdown",
   "metadata": {},
   "source": [
    "Step 9 : Check performance and make predictions\n",
    "\n",
    "status = rf.predict_proba(x_validate)\n",
    "fpr, tpr, _ = roc_curve(y_validate, status[:,1])\n",
    "roc_auc = auc(fpr, tpr)\n",
    "print roc_auc\n",
    "\n",
    "final_status = rf.predict_proba(x_test)\n",
    "test[\"Account.Status\"]=final_status[:,1]\n",
    "test.to_csv('C:/Users/Analytics Vidhya/Desktop/model_output.csv',columns=['REF_NO','Account.Status'])"
   ]
  },
  {
   "cell_type": "markdown",
   "metadata": {},
   "source": [
    "## Stage 3. Data Modelling Stage 3. Data Modelling :\n",
    "\n",
    "I recommend to use any one of GBM / Random Forest techniques, depending on the business problem. These two techniques are extremely effective to create a benchmark solution. I have seen data scientist are using these two methods often as their first model and in some cases it acts as a final model also. This will take maximum amount of time (~4-5 minutes).\n",
    "\n",
    "I recommend to use any one of GBM / Random Forest techniques, depending on the business problem. These two techniques are extremely effective to create a benchmark solution. I have seen data scientist are using these two methods often as their first model and in some cases it acts as a final model also. This will take maximum amount of time (~4-5 minutes)."
   ]
  },
  {
   "cell_type": "markdown",
   "metadata": {},
   "source": [
    "### Step 8 : Pass the imputed and dummy (missing values flags) variables into the modelling process. I am using random forest to predict the class\n",
    "\n",
    "features=list(set(list(fullData.columns))-set(ID_col)-set(target_col)-set(other_col))\n",
    "x_train = Train[list(features)].values\n",
    "y_train = Train[\"Account.Status\"].values\n",
    "x_validate = Validate[list(features)].values\n",
    "y_validate = Validate[\"Account.Status\"].values\n",
    "x_test=test[list(features)].values\n",
    "random.seed(100)\n",
    "rf = RandomForestClassifier(n_estimators=1000)\n",
    "rf.fit(x_train, y_train)"
   ]
  },
  {
   "cell_type": "code",
   "execution_count": null,
   "metadata": {
    "collapsed": true
   },
   "outputs": [],
   "source": [
    "# Import statements\n",
    "\"\"\"\n",
    "from sklearn.pipeline import Pipeline\n",
    "from sklearn.preprocessing import StandardScaler\n",
    "from sklearn.svm import SVC\n",
    "sklearn.LogisticRegression\n",
    "sklearn.linear_model.SGDClassifier\n",
    "sklearn.neighbors.KNeighborsClassifier\n",
    "sklearn.ensemble.RandomForestClassifier\n",
    "from sklearn.metrics import roc_curve, auc_score\n",
    "sklearn.model_selection.cross_val_score\n",
    "from sklearn.grid_search import GridSearchCV\"\"\""
   ]
  },
  {
   "cell_type": "code",
   "execution_count": null,
   "metadata": {
    "collapsed": true
   },
   "outputs": [],
   "source": [
    "#GridSearch Example\n",
    "\"\"\"from sklearn.ensemble import GradientBoostingClassifier\n",
    "from sklearn.grid_search import GridSearchCV\n",
    "param_grid = {'learning rate': [0.001, 0.01, 0.1]\n",
    "             'max_depth': [4, 6],\n",
    "             'min_samples_leaf': [4,8,16]\n",
    "             'max_features': [0.75, 0.9, 1]}\n",
    "model = GradientBoostingClassifier(n_estimators=3000)\n",
    "gs_cv = GridSearchCV(model, param_grid).fit(X,y)\n",
    "\n",
    "gs.cv_best_score, gs_cv.best_estimator_\"\"\""
   ]
  },
  {
   "cell_type": "markdown",
   "metadata": {},
   "source": [
    "## Stage 4. Estimation of Performance:\n",
    "\n",
    "There are various methods to validate your model performance, I would suggest you to divide your train data set into Train and validate (ideally 70:30) and build model based on 70% of train data set. Now, cross-validate it using 30% of validate data set and evaluate the performance using evaluation metric. This finally takes 1-2 minutes to execute and document.\n",
    "\n",
    "Intent of this article is not to win the competition, but to establish a benchmark for our self. Let’s look at the python codes to perform above steps and build your first model with higher impact."
   ]
  },
  {
   "cell_type": "code",
   "execution_count": null,
   "metadata": {
    "collapsed": true
   },
   "outputs": [],
   "source": []
  }
 ],
 "metadata": {
  "kernelspec": {
   "display_name": "Python 2",
   "language": "python",
   "name": "python2"
  },
  "language_info": {
   "codemirror_mode": {
    "name": "ipython",
    "version": 2
   },
   "file_extension": ".py",
   "mimetype": "text/x-python",
   "name": "python",
   "nbconvert_exporter": "python",
   "pygments_lexer": "ipython2",
   "version": "2.7.13"
  }
 },
 "nbformat": 4,
 "nbformat_minor": 2
}
